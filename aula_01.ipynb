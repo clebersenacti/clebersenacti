{
  "nbformat": 4,
  "nbformat_minor": 0,
  "metadata": {
    "colab": {
      "provenance": [],
      "authorship_tag": "ABX9TyOhxA6B8MkUe7XgpekspDvj",
      "include_colab_link": true
    },
    "kernelspec": {
      "name": "python3",
      "display_name": "Python 3"
    },
    "language_info": {
      "name": "python"
    }
  },
  "cells": [
    {
      "cell_type": "markdown",
      "metadata": {
        "id": "view-in-github",
        "colab_type": "text"
      },
      "source": [
        "<a href=\"https://colab.research.google.com/github/clebersenacti/clebersenacti/blob/main/aula_01.ipynb\" target=\"_parent\"><img src=\"https://colab.research.google.com/assets/colab-badge.svg\" alt=\"Open In Colab\"/></a>"
      ]
    },
    {
      "cell_type": "code",
      "execution_count": 1,
      "metadata": {
        "colab": {
          "base_uri": "https://localhost:8080/"
        },
        "id": "vDuhie3NTLgW",
        "outputId": "3f8d8b07-71d2-462a-bdc6-3422c4dd82f4"
      },
      "outputs": [
        {
          "output_type": "stream",
          "name": "stdout",
          "text": [
            "ola mundo\n"
          ]
        }
      ],
      "source": [
        "# isto é um comentario\n",
        "# comentario continua\n",
        "print(\"ola mundo\") # isto é um comentario"
      ]
    },
    {
      "cell_type": "code",
      "source": [
        "''' este é um comentario\n",
        "aqui continua o comentario\n",
        "aqui ainda continua\n",
        "e aqui termina'''"
      ],
      "metadata": {
        "colab": {
          "base_uri": "https://localhost:8080/",
          "height": 35
        },
        "id": "-8_y8YBjTcnW",
        "outputId": "227ccea0-7c12-435b-8d1c-42056b86230e"
      },
      "execution_count": 2,
      "outputs": [
        {
          "output_type": "execute_result",
          "data": {
            "text/plain": [
              "' este é um comentario\\naqui continua o comentario\\naqui ainda continua\\ne aqui termina'"
            ],
            "application/vnd.google.colaboratory.intrinsic+json": {
              "type": "string"
            }
          },
          "metadata": {},
          "execution_count": 2
        }
      ]
    },
    {
      "cell_type": "code",
      "source": [
        "print(\"ola mundo\")\n",
        "print(10)\n",
        "print(20.5)\n"
      ],
      "metadata": {
        "colab": {
          "base_uri": "https://localhost:8080/"
        },
        "id": "08hOiY0-TslH",
        "outputId": "8ff2a8b8-0f3f-4f71-eb89-fdb6686f881d"
      },
      "execution_count": 3,
      "outputs": [
        {
          "output_type": "stream",
          "name": "stdout",
          "text": [
            "ola mundo\n",
            "10\n",
            "20.5\n"
          ]
        }
      ]
    },
    {
      "cell_type": "code",
      "source": [
        "print(\"maça\", 20, 30.45)"
      ],
      "metadata": {
        "colab": {
          "base_uri": "https://localhost:8080/"
        },
        "id": "fZxcT52PUAtr",
        "outputId": "77ee4b9c-ab97-481a-f6c8-083c30571d6a"
      },
      "execution_count": 5,
      "outputs": [
        {
          "output_type": "stream",
          "name": "stdout",
          "text": [
            "maça 20 30.45\n"
          ]
        }
      ]
    },
    {
      "cell_type": "code",
      "source": [
        "print(\"maça\", \"pera\", \"uva\", sep= '-')"
      ],
      "metadata": {
        "colab": {
          "base_uri": "https://localhost:8080/"
        },
        "id": "PRDVy3UNUOTR",
        "outputId": "8042b6cf-0285-4076-ac57-d19a69d8ffe5"
      },
      "execution_count": 7,
      "outputs": [
        {
          "output_type": "stream",
          "name": "stdout",
          "text": [
            "maça-pera-uva\n"
          ]
        }
      ]
    },
    {
      "cell_type": "code",
      "source": [
        "print(\"maça \",\"pera \", end = 'fim', sep= '')"
      ],
      "metadata": {
        "colab": {
          "base_uri": "https://localhost:8080/"
        },
        "id": "Nkgpna39UjVR",
        "outputId": "a79bee66-df8f-4386-9e2b-987b2a95921d"
      },
      "execution_count": 10,
      "outputs": [
        {
          "output_type": "stream",
          "name": "stdout",
          "text": [
            "maça pera fim"
          ]
        }
      ]
    },
    {
      "cell_type": "code",
      "source": [
        "print('este é um texto longo, \\n e eu quero quebrar a linha')"
      ],
      "metadata": {
        "colab": {
          "base_uri": "https://localhost:8080/"
        },
        "id": "0UrH9ScsU87L",
        "outputId": "1d061263-1bac-45ee-a062-4fef763e51e9"
      },
      "execution_count": 11,
      "outputs": [
        {
          "output_type": "stream",
          "name": "stdout",
          "text": [
            "este é um texto longo, \n",
            " e eu quero quebrar a linha\n"
          ]
        }
      ]
    },
    {
      "cell_type": "code",
      "source": [
        "print(\"maça \", \"pera \", \"uva\", sep= '\\n')"
      ],
      "metadata": {
        "colab": {
          "base_uri": "https://localhost:8080/"
        },
        "id": "x3S_sI8iVgra",
        "outputId": "7138c01b-d569-4697-ff19-ac03f53a12e4"
      },
      "execution_count": 27,
      "outputs": [
        {
          "output_type": "stream",
          "name": "stdout",
          "text": [
            "maça \n",
            "pera \n",
            "uva\n"
          ]
        }
      ]
    },
    {
      "cell_type": "code",
      "source": [
        "print(\"A pontuação total de %s foi %s pontos\" % (\"fernando\", \"10\"))"
      ],
      "metadata": {
        "colab": {
          "base_uri": "https://localhost:8080/"
        },
        "id": "uszM8VmiVuNy",
        "outputId": "a48b4561-1849-4338-f9d1-dc2f535654fd"
      },
      "execution_count": 15,
      "outputs": [
        {
          "output_type": "stream",
          "name": "stdout",
          "text": [
            "A pontuação total de fernando foi 10 pontos\n"
          ]
        }
      ]
    },
    {
      "cell_type": "code",
      "source": [
        "print(\"A pontuação total de {} foi {} pontos\" .format(\"Fernando\",\"10\"))"
      ],
      "metadata": {
        "colab": {
          "base_uri": "https://localhost:8080/"
        },
        "id": "zaktA045Wahb",
        "outputId": "88e17974-7fc1-4fa2-c0e6-746c3b8522a6"
      },
      "execution_count": 17,
      "outputs": [
        {
          "output_type": "stream",
          "name": "stdout",
          "text": [
            "A pontuação total de Fernando foi 10 pontos\n"
          ]
        }
      ]
    },
    {
      "cell_type": "code",
      "source": [
        "  print(\"A pontuação de \"  + \" Fernando \" + \" foi \" + \" 10 \"  + \" pontos!\")"
      ],
      "metadata": {
        "colab": {
          "base_uri": "https://localhost:8080/"
        },
        "id": "ZVFwc70yWyWe",
        "outputId": "1b256708-805b-4dcf-f284-4450ab70564a"
      },
      "execution_count": 19,
      "outputs": [
        {
          "output_type": "stream",
          "name": "stdout",
          "text": [
            "A pontuação de  Fernando  foi  10  pontos!\n"
          ]
        }
      ]
    },
    {
      "cell_type": "markdown",
      "source": [
        "#1 - Realize o print do seu nome completo, sua idade e sua \n",
        "# altura utilizando um print para cada valor."
      ],
      "metadata": {
        "id": "X1kJloPocU5c"
      }
    },
    {
      "cell_type": "code",
      "source": [
        "print(\"Nome:{} \\nIdade:{} \\nAltura:{}\" .format(\"Cleber Candido dos Santos\",\"36\", \"1,68m\"))"
      ],
      "metadata": {
        "colab": {
          "base_uri": "https://localhost:8080/"
        },
        "id": "7sY4NrKgXjkZ",
        "outputId": "b7c943e9-7a26-4d37-bf66-e9b0b24814ca"
      },
      "execution_count": 32,
      "outputs": [
        {
          "output_type": "stream",
          "name": "stdout",
          "text": [
            "Nome:Cleber Candido dos Santos \n",
            "Idade:36 \n",
            "Altura:1,68m\n"
          ]
        }
      ]
    },
    {
      "cell_type": "code",
      "source": [
        "print(\"Nome: %s \\nIdade: %s \\nAltura: %s\" % (\"Cleber Santo\", \"36 anos\", \"1,68m\"))"
      ],
      "metadata": {
        "colab": {
          "base_uri": "https://localhost:8080/"
        },
        "id": "gk7cbSA_Y6cv",
        "outputId": "147b88b0-364e-43f4-9d89-d85bf4a24960"
      },
      "execution_count": 39,
      "outputs": [
        {
          "output_type": "stream",
          "name": "stdout",
          "text": [
            "Nome: Cleber Santo \n",
            "Idade: 36 anos \n",
            "Altura: 1,68m\n"
          ]
        }
      ]
    },
    {
      "cell_type": "code",
      "source": [],
      "metadata": {
        "id": "djsKC2tnaEix"
      },
      "execution_count": null,
      "outputs": []
    }
  ]
}